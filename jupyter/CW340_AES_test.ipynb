{
 "cells": [
  {
   "cell_type": "markdown",
   "metadata": {},
   "source": [
    "# Basic HW AES CPA attack.\n",
    "\n",
    "**IMPORTANT NOTES!**\n",
    "- **VCCIOB jumper (JP9)** must be in **top position (3.3V)**, which is different from the other test notebook;\n",
    "- **nPOR jumper (JP5)** must be in **bottom position (1-3)**."
   ]
  },
  {
   "cell_type": "code",
   "execution_count": null,
   "metadata": {},
   "outputs": [],
   "source": [
    "import chipwhisperer as cw"
   ]
  },
  {
   "cell_type": "code",
   "execution_count": null,
   "metadata": {},
   "outputs": [],
   "source": [
    "bsfile = '../fpga/vivado/cw341.runs/impl_20pin/cw341_top.bit'"
   ]
  },
  {
   "cell_type": "code",
   "execution_count": null,
   "metadata": {},
   "outputs": [],
   "source": [
    "!ls -l $bsfile"
   ]
  },
  {
   "cell_type": "code",
   "execution_count": null,
   "metadata": {},
   "outputs": [],
   "source": [
    "target = cw.target(None, cw.targets.CW340, bsfile=bsfile, force=True)"
   ]
  },
  {
   "cell_type": "code",
   "execution_count": null,
   "metadata": {},
   "outputs": [],
   "source": [
    "target.fpga_buildtime"
   ]
  },
  {
   "cell_type": "code",
   "execution_count": null,
   "metadata": {},
   "outputs": [],
   "source": [
    "target.pll.pll_enable_set(True)\n",
    "target.pll.pll_outenable_set(False, 0)\n",
    "target.pll.pll_outenable_set(True, 1)\n",
    "target.pll.pll_outenable_set(True, 2)\n",
    "\n",
    "target.pll.pll_outfreq_set(10E6, 1)\n",
    "target.pll.pll_outfreq_set(10E6, 2)"
   ]
  },
  {
   "cell_type": "code",
   "execution_count": null,
   "metadata": {},
   "outputs": [],
   "source": [
    "scope = cw.scope()\n",
    "scope.default_setup()"
   ]
  },
  {
   "attachments": {},
   "cell_type": "markdown",
   "metadata": {},
   "source": [
    "**Once the `husky_clock_fix` branch is merged** (i.e. issues [490](https://github.com/newaetech/chipwhisperer/issues/490), [499](https://github.com/newaetech/chipwhisperer/issues/501) and [501](https://github.com/newaetech/chipwhisperer/issues/501) are closed), 4x sampling works well, and `CLOCKS_FIXED` can be set to `True`.\n",
    "\n",
    "Otherwise, we crank up to 20x sampling (`CLOCKS_FIXED = False`) to better catch the leakage."
   ]
  },
  {
   "cell_type": "code",
   "execution_count": null,
   "metadata": {},
   "outputs": [],
   "source": [
    "CLOCKS_FIXED = False\n",
    "\n",
    "if CLOCKS_FIXED:\n",
    "    scope.clock.adc_mul = 4\n",
    "    scope.clock.clkgen_freq = 10e6\n",
    "    scope.clock.clkgen_src = 'extclk'\n",
    "    scope.clock.adc_phase = 15\n",
    "    scope.adc.samples = 60\n",
    "else:\n",
    "    scope.clock.adc_mul = 20\n",
    "    scope.clock.clkgen_freq = 10e6\n",
    "    scope.clock.clkgen_src = 'extclk'\n",
    "    scope.clock.adc_phase = 0\n",
    "    scope.adc.samples = 300\n",
    "\n",
    "scope.adc.presamples = 0\n",
    "scope.gain.db = 32\n",
    "\n",
    "assert scope.clock.adc_locked"
   ]
  },
  {
   "cell_type": "code",
   "execution_count": null,
   "metadata": {},
   "outputs": [],
   "source": [
    "project_file = \"projects/Tutorial_HW_CW340.cwp\"\n",
    "project = cw.create_project(project_file, overwrite=True)"
   ]
  },
  {
   "cell_type": "code",
   "execution_count": null,
   "metadata": {},
   "outputs": [],
   "source": [
    "from tqdm.notebook import tnrange\n",
    "import numpy as np\n",
    "import time\n",
    "from Crypto.Cipher import AES\n",
    "\n",
    "ktp = cw.ktp.Basic()\n",
    "\n",
    "traces = []\n",
    "textin = []\n",
    "keys = []\n",
    "N = 10000  # Number of traces\n",
    "\n",
    "# initialize cipher to verify DUT result:\n",
    "key, text = ktp.next()\n",
    "cipher = AES.new(bytes(key), AES.MODE_ECB)\n",
    "\n",
    "for i in tnrange(N, desc='Capturing traces'):\n",
    "    # run aux stuff that should come before trace here\n",
    "\n",
    "    key, text = ktp.next()  # manual creation of a key, text pair can be substituted here\n",
    "    textin.append(text)\n",
    "    keys.append(key)\n",
    "    \n",
    "    ret = cw.capture_trace(scope, target, text, key)\n",
    "    if not ret:\n",
    "        print(\"Failed capture\")\n",
    "        continue\n",
    "\n",
    "    assert (list(ret.textout) == list(cipher.encrypt(bytes(text)))), \"Incorrect encryption result!\\nGot {}\\nExp {}\\n\".format(ret.textout, list(text))\n",
    "    #trace += scope.getLastTrace()\n",
    "        \n",
    "    traces.append(ret.wave)\n",
    "    project.traces.append(ret)"
   ]
  },
  {
   "cell_type": "code",
   "execution_count": null,
   "metadata": {},
   "outputs": [],
   "source": [
    "numtraces = 100\n",
    "\n",
    "from bokeh.palettes import inferno\n",
    "from bokeh.plotting import figure, show\n",
    "from bokeh.resources import INLINE\n",
    "from bokeh.io import output_notebook\n",
    "from bokeh.models import Span, Legend, LegendItem\n",
    "import itertools\n",
    "output_notebook(INLINE)\n",
    "\n",
    "B = figure(plot_width=1800)\n",
    "colors = itertools.cycle(inferno(numtraces))\n",
    "for i in range(numtraces):\n",
    "    B.line(xrange, traces[i], color=next(colors))\n",
    "show(B)\n"
   ]
  },
  {
   "cell_type": "code",
   "execution_count": null,
   "metadata": {},
   "outputs": [],
   "source": [
    "project.save()"
   ]
  },
  {
   "cell_type": "code",
   "execution_count": null,
   "metadata": {},
   "outputs": [],
   "source": [
    "import chipwhisperer as cw\n",
    "import chipwhisperer.analyzer as cwa\n",
    "project_file = \"projects/Tutorial_HW_CW340\"\n",
    "project = cw.open_project(project_file)\n",
    "attack = cwa.cpa(project, cwa.leakage_models.last_round_state_diff)\n",
    "cb = cwa.get_jupyter_callback(attack)"
   ]
  },
  {
   "cell_type": "code",
   "execution_count": null,
   "metadata": {},
   "outputs": [],
   "source": [
    "attack_results = attack.run(cb)"
   ]
  },
  {
   "cell_type": "code",
   "execution_count": null,
   "metadata": {},
   "outputs": [],
   "source": [
    "avg_pge = np.average(attack_results.pge)\n",
    "if CLOCKS_FIXED:\n",
    "    MAX_PGE = 10\n",
    "else:\n",
    "    MAX_PGE = 50\n",
    "assert avg_pge < MAX_PGE, 'Average PGE is %d' % avg_pge"
   ]
  },
  {
   "cell_type": "code",
   "execution_count": null,
   "metadata": {},
   "outputs": [],
   "source": []
  },
  {
   "cell_type": "code",
   "execution_count": null,
   "metadata": {},
   "outputs": [],
   "source": []
  }
 ],
 "metadata": {
  "kernelspec": {
   "display_name": "Python (venv39)",
   "language": "python",
   "name": "venv39"
  },
  "language_info": {
   "codemirror_mode": {
    "name": "ipython",
    "version": 3
   },
   "file_extension": ".py",
   "mimetype": "text/x-python",
   "name": "python",
   "nbconvert_exporter": "python",
   "pygments_lexer": "ipython3",
   "version": "3.9.7"
  }
 },
 "nbformat": 4,
 "nbformat_minor": 4
}
