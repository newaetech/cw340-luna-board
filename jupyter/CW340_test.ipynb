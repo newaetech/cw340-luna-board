{
 "cells": [
  {
   "cell_type": "markdown",
   "metadata": {},
   "source": [
    "# Basic tests.\n",
    "\n",
    "**IMPORTANT NOTES!**\n",
    "- **VCCIOB jumper (JP9)** must be in **middle position (1.8V)**, which is different from the AES test notebook;\n",
    "- **nPOR jumper (JP5)** must be in **bottom position (1-3)**."
   ]
  },
  {
   "cell_type": "code",
   "execution_count": null,
   "metadata": {},
   "outputs": [],
   "source": [
    "import chipwhisperer as cw"
   ]
  },
  {
   "cell_type": "code",
   "execution_count": null,
   "metadata": {},
   "outputs": [],
   "source": [
    "!ls -l ../fpga/vivado/cw341.runs/impl_1/cw341_top.bit"
   ]
  },
  {
   "cell_type": "code",
   "execution_count": null,
   "metadata": {},
   "outputs": [],
   "source": [
    "bsfile = '../fpga/vivado/cw341.runs/impl_1/cw341_top.bit'\n",
    "target = cw.target(None, cw.targets.CW340, bsfile=bsfile, force=True)"
   ]
  },
  {
   "cell_type": "code",
   "execution_count": null,
   "metadata": {},
   "outputs": [],
   "source": [
    "target.fpga_buildtime"
   ]
  },
  {
   "cell_type": "code",
   "execution_count": null,
   "metadata": {},
   "outputs": [],
   "source": [
    "from tqdm.notebook import tqdm\n",
    "\n",
    "def lb_write(addr, data1, data2=None):\n",
    "    # 1. set lb_action(s) to write:\n",
    "    action_bits = 0\n",
    "    if data1 != None:\n",
    "        action_bits += 2**0\n",
    "    if data2 != None:\n",
    "        action_bits += 2**2\n",
    "    target.fpga_write(0x80, [action_bits])\n",
    "    \n",
    "    # 2. write data(s)\n",
    "    if data1 != None and data2 != None:\n",
    "        target.fpga_write(0x81, int.to_bytes(data1 + (data2 << 32), length=8, byteorder='little'))\n",
    "    elif data1 != None:\n",
    "        target.fpga_write(0x81, int.to_bytes(data1, length=4, byteorder='little'))\n",
    "    elif data2 != None:\n",
    "        target.fpga_write(0x85, int.to_bytes(data2, length=4, byteorder='little'))\n",
    "    else:\n",
    "        raise ValueError('Must specify some data to write!')\n",
    "    \n",
    "    # 3. write address (this triggers the LB write action):\n",
    "    target.fpga_write(0x82, int.to_bytes(addr, length=4, byteorder='little'))\n",
    "        \n",
    "\n",
    "def lb_read(addr, h1en=True, h2en=True):\n",
    "    # 1. set lb_action(s) to read:\n",
    "    action_bits = 0\n",
    "    if h1en:\n",
    "        action_bits += 2**1\n",
    "    if h2en:\n",
    "        action_bits += 2**3\n",
    "    target.fpga_write(0x80, [action_bits])\n",
    "\n",
    "    # 2. write address (this triggers the LB read action):\n",
    "    target.fpga_write(0x82, int.to_bytes(addr, length=4, byteorder='little'))\n",
    "    \n",
    "    # 3. read data(s):\n",
    "    data1 = None\n",
    "    data2 = None\n",
    "    if h1en and h1en:\n",
    "        raw = target.fpga_read(0x81, 8)\n",
    "        data1 = int.from_bytes(raw[0:4], byteorder='little')\n",
    "        data2 = int.from_bytes(raw[4:8], byteorder='little')\n",
    "    elif h1en:\n",
    "        data1 = int.from_bytes(target.fpga_read(0x81, 4), byteorder='little')\n",
    "    elif h2en:\n",
    "        data2 = int.from_bytes(target.fpga_read(0x85, 4), byteorder='little')\n",
    "    else:\n",
    "        raise ValueError('Must read from at least one memory!')\n",
    "\n",
    "    return data1, data2\n",
    "\n",
    "def set_config(config=0x8fec0000):\n",
    "    # set config as per do_files:\n",
    "    lb_write(0x14, config, config) # default = 83 MHz fixed 2x access\n",
    "    lb_write(0x1c, 0x05, 0x05) # execute the config write\n",
    "\n",
    "def reset_hyperram(short_pulse=False):\n",
    "    target.fpga_write(0x86, [1]) # turn off auto test (in case FSM was stuck)\n",
    "    if short_pulse:\n",
    "        target.fpga_write(0x84, [0xff])\n",
    "    else:\n",
    "        target.fpga_write(0x84, [1])\n",
    "        target.fpga_write(0x84, [0])\n",
    "\n",
    "def write_mem_1word(addr, data1, data2=None, h1en=True, h2en=False):\n",
    "    if h1en:\n",
    "        addr1=addr\n",
    "        cmd1 = 0x01\n",
    "    else:\n",
    "        addr1=None\n",
    "        cmd1 = None\n",
    "    if h2en:\n",
    "        addr2=addr\n",
    "        cmd2 = 0x01\n",
    "    else:\n",
    "        addr2=None\n",
    "        cmd2 = None\n",
    "    \n",
    "    lb_write(0x10, addr1, addr2) # address\n",
    "    lb_write(0x14, data1, data2) # data\n",
    "    lb_write(0x1c, cmd1, cmd2) # write command\n",
    "\n",
    "def read_mem_1word(addr, h1en=True, h2en=False):\n",
    "    if h1en:\n",
    "        addr1=addr\n",
    "        cmd1=0x04\n",
    "    else:\n",
    "        addr1=None\n",
    "        cmd1=None\n",
    "    if h2en:\n",
    "        addr2=addr\n",
    "        cmd2=0x04\n",
    "    else:\n",
    "        addr2=None\n",
    "        cmd4=None\n",
    "    \n",
    "    lb_write(0x10, addr1, addr2) # address\n",
    "    lb_write(0x1c, cmd1, cmd2) # read command\n",
    "    return lb_read(0x14, h1en, h2en)\n",
    "\n",
    "def write_mem_words(addr, data):\n",
    "    # write 64 bits to each hyperram (total 128 bits)\n",
    "    # data should be a list of four 32-bit ints\n",
    "    cmd = 0x3 \n",
    "    lb_write(0x10, addr, addr) # address\n",
    "    lb_write(0x14, data[0], data[1])\n",
    "    lb_write(0x18, data[2], data[3])\n",
    "    lb_write(0x1c, cmd, cmd) # write command\n",
    "\n",
    "def read_mem_words(addr, h1en=True, h2en=False):\n",
    "    # read 64 bits from each hyperram (total 128 bits)\n",
    "    # returns a list of four 32-bit ints\n",
    "    cmd = 0x04  \n",
    "    lb_write(0x10, addr, addr) # address\n",
    "    lb_write(0x1c, cmd, cmd) # read command\n",
    "    data = list(lb_read(0x14, True, True))\n",
    "    data.extend(list(lb_read(0x18, True, True)))\n",
    "    return data\n",
    "\n",
    "def auto_hyperram_test(hr1en=True, hr2en=True, start=0, stop=512*1024*1024//32-1):\n",
    "    target.fpga_write(0x8d, int.to_bytes(start, length=4, byteorder='little'))\n",
    "    target.fpga_write(0x89, int.to_bytes(stop,  length=4, byteorder='little'))\n",
    "    target.fpga_write(0x86, [3]) # turn off auto test and clear fail\n",
    "    config = 16 # set LFSR mode\n",
    "    if hr1en:\n",
    "        config += 8\n",
    "    if hr2en:\n",
    "        config += 4\n",
    "    target.fpga_write(0x86, [config]) # turn on test\n",
    "    wpbar = tqdm(total=stop, desc='writes')\n",
    "    prevaddr = 0\n",
    "    addr = 0\n",
    "    while addr < stop:\n",
    "        addr = int.from_bytes(target.fpga_read(0x8b, 4), byteorder='little') # current address being read/written\n",
    "        if addr < prevaddr:\n",
    "            break\n",
    "        wpbar.update(addr - prevaddr)\n",
    "        prevaddr = addr\n",
    "        time.sleep(0.1)\n",
    "        busy_stuck = target.fpga_read(0x83, 1)[0] & 6\n",
    "        if busy_stuck:\n",
    "            raise ValueError(\"Hyperram controller appears to be stuck! Re-run the reset_hyperram() and set_config() cells to reset it before trying again.\")\n",
    "    wpbar.close()\n",
    "    \n",
    "    rpbar = tqdm(total=stop, desc='reads')\n",
    "    prevaddr = 0\n",
    "    addr = 0\n",
    "    while addr < stop:\n",
    "        addr = int.from_bytes(target.fpga_read(0x8b, 4), byteorder='little') # current address being read/written\n",
    "        if addr < prevaddr:\n",
    "            break\n",
    "        rpbar.update(addr - prevaddr)\n",
    "        prevaddr = addr\n",
    "        time.sleep(0.1)\n",
    "        busy_stuck = target.fpga_read(0x83, 1)[0] & 6\n",
    "        if busy_stuck:\n",
    "            raise ValueError(\"Hyperram controller appears to be stuck! Re-run the reset_hyperram() and set_config() cells to reset it before trying again.\")\n",
    "\n",
    "    total_errors = int.from_bytes(target.fpga_read(0x87, 4), byteorder='little')\n",
    "    rpbar.close()\n",
    "    \n",
    "    status = target.fpga_read(0x83, 1)[0]\n",
    "\n",
    "    if status & 16:\n",
    "        print('Test passed')\n",
    "    else:\n",
    "        print('Test FAILED; %d errors' % total_errors)\n",
    "        if hr1en and hr2en:\n",
    "            mx = 2\n",
    "        else:\n",
    "            mx = 1\n",
    "        print('Percentage of good reads: %3.2f%%' % ((1-(total_errors/((stop-start)*mx)))*100))\n",
    "    \n",
    "\n",
    "def auto_last_address():\n",
    "    return int.from_bytes(target.fpga_read(0x8b, 4), byteorder='little')\n",
    "\n",
    "def auto_test_errors():\n",
    "    return int.from_bytes(target.fpga_read(0x87, 4), byteorder='little')"
   ]
  },
  {
   "cell_type": "markdown",
   "metadata": {},
   "source": [
    "# Test FPGA register read/writes:"
   ]
  },
  {
   "cell_type": "code",
   "execution_count": null,
   "metadata": {},
   "outputs": [],
   "source": [
    "from tqdm.notebook import tnrange\n",
    "import random\n",
    "\n",
    "addr = 0xa # use AES key register\n",
    "nbytes = 16\n",
    "iterations = 1000\n",
    "errors = 0\n",
    "for i in tnrange(iterations):\n",
    "    wdata = list(int.to_bytes(random.randrange(2**(8*nbytes)), length=nbytes, byteorder='little'))\n",
    "    target.fpga_write(addr, wdata)\n",
    "    rdata = list(target.fpga_read(addr, nbytes))\n",
    "    if rdata != wdata:\n",
    "        errors += 1\n",
    "if errors:\n",
    "    print('Test FAILED! %d errors' % errors)\n",
    "else:\n",
    "    print('Test passed.')"
   ]
  },
  {
   "cell_type": "markdown",
   "metadata": {},
   "source": [
    "# Test clocks:\n",
    "\n",
    "Indirectly test the CW340 PLL, via whether the FPGA PLL we use for Hyperram is locked."
   ]
  },
  {
   "cell_type": "code",
   "execution_count": null,
   "metadata": {},
   "outputs": [],
   "source": [
    "# we only need PLL1 or 2:\n",
    "target.pll.pll_enable_set(True)\n",
    "target.pll.pll_outenable_set(False, 0)\n",
    "target.pll.pll_outenable_set(True, 1)\n",
    "target.pll.pll_outenable_set(True, 2)"
   ]
  },
  {
   "cell_type": "code",
   "execution_count": null,
   "metadata": {},
   "outputs": [],
   "source": [
    "# PLL clock frequencies must be in range for the FPGA PLL to lock:\n",
    "target.pll.pll_outfreq_set(40E6, 1)\n",
    "target.pll.pll_outfreq_set(40E6, 2)"
   ]
  },
  {
   "cell_type": "code",
   "execution_count": null,
   "metadata": {},
   "outputs": [],
   "source": [
    "import time\n",
    "\n",
    "# PLL1:\n",
    "target.fpga_write(0, [0])\n",
    "\n",
    "target.pll.pll_outenable_set(False, 1)\n",
    "time.sleep(0.1)\n",
    "assert not target.fpga_read(0x83, 1)[0], 'PLL_CLK1 absent yet FPGA PLL is still locked?'\n",
    "\n",
    "target.pll.pll_outenable_set(True, 1)\n",
    "time.sleep(0.1)\n",
    "assert target.fpga_read(0x83, 1)[0], 'FPGA PLL not locked with PLL_CLK1'\n",
    "\n",
    "# PLL2:\n",
    "target.fpga_write(0, [2]) # uses PLL_CLK2_ALT\n",
    "#target.fpga_write(0, [6]) # uses PLL_CLK2_ORIG\n",
    "\n",
    "target.pll.pll_outenable_set(False, 2)\n",
    "time.sleep(0.1)\n",
    "assert not target.fpga_read(0x83, 1)[0], 'PLL_CLK2 absent yet FPGA PLL is still locked?'\n",
    "\n",
    "target.pll.pll_outenable_set(True, 2)\n",
    "time.sleep(0.1)\n",
    "assert target.fpga_read(0x83, 1)[0], 'FPGA PLL not locked with PLL_CLK2'"
   ]
  },
  {
   "cell_type": "markdown",
   "metadata": {},
   "source": [
    "# Test LEDs:"
   ]
  },
  {
   "cell_type": "code",
   "execution_count": null,
   "metadata": {},
   "outputs": [],
   "source": [
    "print('The 8 USRLEDs should cycle 5 times, then all flash quickly:')\n",
    "for i in range(5):\n",
    "    for j in range(8):\n",
    "        target.fpga_write(0x0d, [2**j, 1])\n",
    "        time.sleep(0.05)\n",
    "\n",
    "target.fpga_write(0x0d, [0, 3])\n",
    "time.sleep(1)\n",
    "input(\"All 8 USLEDs should be flashing now. Press Enter to continue...\")\n",
    "target.fpga_write(0x0d, [0,0])"
   ]
  },
  {
   "cell_type": "markdown",
   "metadata": {},
   "source": [
    "# Test DIPs:\n",
    "\n",
    "Make sure VCCIOB jumper (JP9) is set to 1.8V (middle horizontal position)."
   ]
  },
  {
   "cell_type": "code",
   "execution_count": null,
   "metadata": {},
   "outputs": [],
   "source": [
    "import time\n",
    "input(\"Set dip switches all to 1, then press enter:\")\n",
    "dips = target.fpga_read(0x0c, 1)[0]\n",
    "assert dips == 0xff, \"{:08b}\".format(127)\n",
    "\n",
    "print(\"Now set all dip switches to 0:\")\n",
    "\n",
    "lastdips = dips\n",
    "while True:\n",
    "    dips = target.fpga_read(0x0c, 1)[0]\n",
    "\n",
    "    change = dips ^ lastdips\n",
    "\n",
    "    if change:\n",
    "        for i in range(0, 8):\n",
    "            if change == 1<<i:\n",
    "                print(\"SW%d: %d\" % (i, ((dips & 2**i)>>i)))\n",
    "\n",
    "    lastdips = dips\n",
    "\n",
    "    time.sleep(0.1)\n",
    "\n",
    "    if dips == 0:\n",
    "        print(\"All dip switches 0, test passed.\")\n",
    "        break        \n"
   ]
  },
  {
   "cell_type": "markdown",
   "metadata": {},
   "source": [
    "# Test SRAM:"
   ]
  },
  {
   "cell_type": "code",
   "execution_count": null,
   "metadata": {},
   "outputs": [],
   "source": [
    "import time\n",
    "\n",
    "# set wait times:\n",
    "target.fpga_write(0x44, [6])\n",
    "target.fpga_write(0x45, [4])\n",
    "\n",
    "target.fpga_write(0x40, [1]) # enable SRAM test\n",
    "time.sleep(0.5)\n",
    "\n",
    "srampass = target.fpga_read(0x41, 1)[0]\n",
    "target.fpga_write(0x40, [0]) # disable SRAM test\n",
    "\n",
    "if srampass:\n",
    "    runs = int.from_bytes(list(target.fpga_read(0x43, 4)), byteorder='little')\n",
    "    print('SRAM test passed. Wrote and read full memory %d times.' % runs)\n",
    "else:\n",
    "    print('*** SRAM test failed! ***')\n"
   ]
  },
  {
   "cell_type": "markdown",
   "metadata": {},
   "source": [
    "# Test Hyperrams:\n",
    "\n",
    "The hyperram controller is quite sensitive to the clock frequency. If the controller gets stuck, try a slightly different (higher or lower) frequency, e.g. 35 MHz or 45 MHz."
   ]
  },
  {
   "cell_type": "code",
   "execution_count": null,
   "metadata": {},
   "outputs": [],
   "source": [
    "HR_CLOCK_RATE = 40e6\n",
    "target.pll.pll_outfreq_set(HR_CLOCK_RATE, 2)"
   ]
  },
  {
   "cell_type": "code",
   "execution_count": null,
   "metadata": {},
   "outputs": [],
   "source": [
    "reset_hyperram()"
   ]
  },
  {
   "cell_type": "code",
   "execution_count": null,
   "metadata": {},
   "outputs": [],
   "source": [
    "#set_config(0x8f140a07) # 166 MHz variable\n",
    "#set_config(0x8f1c0a07) # 166 MHz fixed\n",
    "#set_config(0x8f0c0806) # 133 MHz fixed\n",
    "#set_config(0x8ffc0605) # 100 MHz fixed\n",
    "set_config(0x8fec0404) # 83 MHz fixed"
   ]
  },
  {
   "cell_type": "markdown",
   "metadata": {},
   "source": [
    "Automated check over the full memory space:"
   ]
  },
  {
   "cell_type": "code",
   "execution_count": null,
   "metadata": {},
   "outputs": [],
   "source": [
    "# Test memory 1: should have no errors\n",
    "auto_hyperram_test(True, False)\n",
    "#auto_hyperram_test(True, False, stop=261000)"
   ]
  },
  {
   "cell_type": "code",
   "execution_count": null,
   "metadata": {},
   "outputs": [],
   "source": [
    "# If stuck, report last read or write address, and number of errors:\n",
    "print('Last read or write address (if stuck): %d' % auto_last_address())\n",
    "print('Numer of errors: %d' % auto_test_errors())"
   ]
  },
  {
   "cell_type": "code",
   "execution_count": null,
   "metadata": {},
   "outputs": [],
   "source": [
    "# Test memory 2: expect a small number of errors\n",
    "auto_hyperram_test(False, True)"
   ]
  },
  {
   "cell_type": "code",
   "execution_count": null,
   "metadata": {},
   "outputs": [],
   "source": [
    "# If stuck, report last read or write address, and number of errors:\n",
    "print('Last read or write address (if stuck): %d' % auto_last_address())\n",
    "print('Numer of errors: %d' % auto_test_errors())"
   ]
  },
  {
   "cell_type": "markdown",
   "metadata": {},
   "source": [
    "Python-driven check -- much slower; can be useful to diagnose issues.\n",
    "\n",
    "Unlike the automated test this does not validate the full memory (it would take a few days with this approach!), however it does fully exercise the interface of both memories (with the default settings used below)."
   ]
  },
  {
   "cell_type": "code",
   "execution_count": null,
   "metadata": {},
   "outputs": [],
   "source": [
    "WORDS = 32\n",
    "# CHECKS controls which of the four words per burst are verified:\n",
    "CHECKS = [0,1,2,3] # check burst read/write over both memories\n",
    "#CHECKS = [0,2] # check burst read/write for memory 1 only\n",
    "#CHECKS = [1,3] # check burst read/write for memory 2 only\n",
    "#CHECKS = [0] # check only the first 32 bits for memory 1 only\n",
    "#CHECKS = [1] # check only the first 32 bits for memory 2 only\n",
    "\n",
    "# start address for the test (divide what auto_last_address() reports by 2):\n",
    "START = 0\n",
    "#START = 233000//2"
   ]
  },
  {
   "cell_type": "code",
   "execution_count": null,
   "metadata": {},
   "outputs": [],
   "source": [
    "import random\n",
    "from tqdm.notebook import tnrange\n",
    "\n",
    "target.fpga_write(0x86, [3]) # turn off auto test and clear fail\n",
    "\n",
    "wdata = []\n",
    "errors = 0\n",
    "goods = 0\n",
    "for i in tnrange(START, START+WORDS, desc='Writing'):\n",
    "    data = []\n",
    "    for j in range(4):\n",
    "        data.append(random.randint(0, 2**32-1))\n",
    "        #print('i=%3d, j=%3d: writing %08x' % (i, j, data[-1]))\n",
    "    write_mem_words(i*2, data)\n",
    "    wdata.append(data)\n",
    "    busy_stuck = target.fpga_read(0x83, 1)[0] & 6\n",
    "    if busy_stuck:\n",
    "        raise ValueError(\"Hyperram controller appears to be stuck on address %08x! Re-run the reset_hyperram() and set_config() cells to reset it before trying again.\" % (i*2))\n",
    "\n",
    "\n",
    "for i in tnrange(START, START+WORDS, desc='Reading'):\n",
    "    rdata = read_mem_words(i*2)\n",
    "    busy_stuck = target.fpga_read(0x83, 1)[0] & 6\n",
    "    if busy_stuck:\n",
    "        raise ValueError(\"Hyperram controller appears to be stuck on address %08x! Re-run the reset_hyperram() and set_config() cells to reset it before trying again.\" % (i*2))\n",
    "    rdata_filtered = []\n",
    "    wdata_filtered = []\n",
    "    for j in CHECKS:\n",
    "        rdata_filtered.append(rdata[j])\n",
    "        wdata_filtered.append(wdata[i-START][j])                     \n",
    "    if rdata_filtered != wdata_filtered:\n",
    "        for j in range(len(CHECKS)):\n",
    "            expect = wdata_filtered[j]\n",
    "            got = rdata_filtered[j]\n",
    "            if got != expect:\n",
    "                errors += 1\n",
    "                if errors < 10:\n",
    "                    print('i=%3d, j=%3d: got %08x, expected %08x, diff %08x, bits wrong: %3d' % (i, j, got, expect, got ^ expect, bin(got ^ expect).count('1')))\n",
    "            else:\n",
    "                goods += 1\n",
    "    else:\n",
    "        if goods == 0:\n",
    "            print('Good read for i=%3d' % i)\n",
    "        goods += len(CHECKS)\n",
    "\n",
    "print('Percentage of good reads: %d%%' % (goods/(errors+goods)*100))\n",
    "assert errors == 0, '%d errors!' % errors"
   ]
  },
  {
   "cell_type": "markdown",
   "metadata": {},
   "source": [
    "# Check XADC:"
   ]
  },
  {
   "cell_type": "code",
   "execution_count": null,
   "metadata": {},
   "outputs": [],
   "source": [
    "assert target.xadc_status == 'good'\n",
    "assert target.temp < 60 # somewhat arbitrary"
   ]
  },
  {
   "cell_type": "code",
   "execution_count": null,
   "metadata": {},
   "outputs": [],
   "source": []
  }
 ],
 "metadata": {
  "kernelspec": {
   "display_name": "Python (venv39)",
   "language": "python",
   "name": "venv39"
  },
  "language_info": {
   "codemirror_mode": {
    "name": "ipython",
    "version": 3
   },
   "file_extension": ".py",
   "mimetype": "text/x-python",
   "name": "python",
   "nbconvert_exporter": "python",
   "pygments_lexer": "ipython3",
   "version": "3.9.7"
  }
 },
 "nbformat": 4,
 "nbformat_minor": 4
}
